{
 "cells": [
  {
   "metadata": {},
   "cell_type": "markdown",
   "source": [
    "# Assignment 2: NumPy\n",
    "- **you will learn:** how to create and manipulate NumPy arrays, perform vectorized computations, and use basic NumPy functions for data analysis\n",
    "- **task:**  See section 2.9 below\n",
    "- **deadline:** 20.10.2025\n",
    "- [NumPy documentation](https://numpy.org/doc/stable/)\n",
    "- 📝 **Reminder:** Sync your GitHub repository with the main course repository, update your project in PyCharm, and after completing the assignment, commit and push your changes back to GitHub.\n",
    "---"
   ],
   "id": "d9f3166f05eb5272"
  },
  {
   "metadata": {},
   "cell_type": "markdown",
   "source": [
    "## 2.0 PEP 8 and Code Commenting\n",
    "\n",
    "### What is PEP 8?\n",
    "**PEP 8** is the official **style guide** for Python code.\n",
    "It defines conventions that make your code **clean, consistent, and easy to read**.\n",
    "While not mandatory, following PEP 8 is considered a sign of **professional and readable coding**.\n",
    "\n",
    "### Some Important PEP 8 Rules\n",
    "- ✅ **Line length:** keep lines **under 79 characters**.\n",
    "- ✅ **Spacing:**\n",
    "  - add spaces around operators (`a + b`, not `a+b`)\n",
    "  - add a space **after** commas, not before (`[1, 2, 3]`, not `[1 ,2 ,3]`)\n",
    "- ✅ **Variable and function names:** use lowercase with underscores (`calculate_mean`, not `CalculateMean`).\n",
    "- ✅ **Class names:** use `CamelCase` (`DataProcessor`).\n",
    "- ✅ **Imports:** at the top of the file, one per line.\n",
    "- ✅ **Blank lines:** use two blank lines between functions.\n",
    "\n",
    " **Official guide:** [PEP 8 – Style Guide for Python Code](https://peps.python.org/pep-0008/)\n",
    "\n",
    "### Comments and Docstrings\n",
    "Comments explain **what** your code does and **why**.\n",
    "Every function should include a **docstring** — a text enclosed in triple quotes `\"\"\" ... \"\"\"` that briefly describes the function’s purpose, parameters, and return value.\n",
    "\n",
    "#### Example:\n",
    "\n",
    "```python\n",
    "def calculate_mean(values):\n",
    "    \"\"\"\n",
    "    Compute the arithmetic mean of a list of numbers.\n",
    "\n",
    "    Parameters\n",
    "    ----------\n",
    "    values : list of float\n",
    "        Input numbers.\n",
    "\n",
    "    Returns\n",
    "    -------\n",
    "    float\n",
    "        The arithmetic mean of the input values.\n",
    "    \"\"\"\n",
    "    if not values:\n",
    "        return 0.0\n",
    "    return sum(values) / len(values)\n",
    "\n"
   ],
   "id": "836a39339ef3e1b2"
  },
  {
   "metadata": {},
   "cell_type": "markdown",
   "source": [
    "---\n",
    "## 2.1 What is a NumPy Array?\n",
    "\n",
    "- In computer programming, an **array** is a structure for storing and retrieving data.\n",
    "- They are the foundation for **data science, machine learning, and scientific computing** in Python.\n",
    "- We often visualize an array as a **grid in space**, with each cell storing one element of data.\n",
    "- Arrays can be **1D (vectors), 2D (matrices), or higher-dimensional (tensors)**.\n",
    "\n",
    "Most NumPy arrays have some rules:\n",
    "\n",
    "1. **Homogeneous type:** All elements must be of the same data type.\n",
    "2. **Fixed size:** Once created, the total size cannot change.\n",
    "3. **Rectangular shape:** All rows (in 2D arrays) must have the same number of columns — no jagged arrays.\n",
    "\n",
    "When these conditions are met, NumPy can exploit them to make arrays:\n",
    "\n",
    "- **Faster** (optimized C loops under the hood)\n",
    "- **More memory efficient** (contiguous memory storage)\n",
    "- **More convenient to use** (vectorized operations without explicit loops)"
   ],
   "id": "f639726d8899fde6"
  },
  {
   "metadata": {
    "ExecuteTime": {
     "end_time": "2025-10-13T20:23:20.490312Z",
     "start_time": "2025-10-13T20:23:19.655456Z"
    }
   },
   "cell_type": "code",
   "source": [
    "import numpy as np\n",
    "print(np.__version__)"
   ],
   "id": "f826db36465b85f7",
   "outputs": [
    {
     "name": "stdout",
     "output_type": "stream",
     "text": [
      "2.3.3\n"
     ]
    }
   ],
   "execution_count": 4
  },
  {
   "metadata": {
    "ExecuteTime": {
     "end_time": "2025-10-13T10:31:39.434120Z",
     "start_time": "2025-10-13T10:31:39.425388Z"
    }
   },
   "cell_type": "code",
   "source": [
    "# Create 1D array (vector)\n",
    "vector = np.array([10, 20, 30, 40, 50])\n",
    "print(\"1D array (vector):\", vector)\n",
    "print(\"Shape:\", vector.shape, \"Dtype:\", vector.dtype)\n",
    "\n",
    "# Create 2D array (matrix)\n",
    "matrix = np.array([[1, 2, 3],\n",
    "                   [4, 5, 6],\n",
    "                   [7, 8, 9]])\n",
    "print(\"2D array (matrix):\\n\", matrix)\n",
    "print(\"Shape:\", matrix.shape, \"Dtype:\", matrix.dtype)\n",
    "\n",
    "# Vectorized operation: multiply all elements by 2 or square them\n",
    "matrix2 = 2 * matrix\n",
    "matrix_sq = matrix ** 2\n",
    "print(\"Matrix after multiplying by 2:\\n\", matrix2)\n",
    "print(\"Matrix after squaring by 2:\\n\", matrix_sq)"
   ],
   "id": "9449ad8688854fd7",
   "outputs": [
    {
     "name": "stdout",
     "output_type": "stream",
     "text": [
      "1D array (vector): [10 20 30 40 50]\n",
      "Shape: (5,) Dtype: int64\n",
      "2D array (matrix):\n",
      " [[1 2 3]\n",
      " [4 5 6]\n",
      " [7 8 9]]\n",
      "Shape: (3, 3) Dtype: int64\n",
      "Matrix after multiplying by 2:\n",
      " [[ 2  4  6]\n",
      " [ 8 10 12]\n",
      " [14 16 18]]\n",
      "Matrix after squaring by 2:\n",
      " [[ 1  4  9]\n",
      " [16 25 36]\n",
      " [49 64 81]]\n"
     ]
    }
   ],
   "execution_count": 2
  },
  {
   "metadata": {},
   "cell_type": "markdown",
   "source": [
    "---\n",
    "## 2.2 Constructing arrays\n",
    "\n",
    "There are several mechanisms for creating arrays. Among others:\n",
    "\n",
    "1. **Conversion from other Python structures**\n",
    "   Arrays can be created directly from existing **lists or tuples** using `np.array()`.\n",
    "   This is the most common and straightforward way to build an array from existing data."
   ],
   "id": "eed4398b6b513855"
  },
  {
   "metadata": {},
   "cell_type": "code",
   "source": [
    "# Conversion from Python structures\n",
    "a = np.array([1, 2, 3, 4, 5])\n",
    "b= np.array(((1,0),(0,1)))\n",
    "c = np.array([([1,2],[2,1]), ([3,1],[1,3])])\n",
    "print(\"From list:\\n\", a)\n",
    "print(\"From tuples of tuples:\\n\", b)\n",
    "print(\"From list of tuples or lists:\\n\", c)"
   ],
   "id": "d7ffddc3c7734d22",
   "outputs": [],
   "execution_count": null
  },
  {
   "metadata": {},
   "cell_type": "markdown",
   "source": [
    "\n",
    "2. **NumPy array creation functions**\n",
    "   NumPy provides a set of **built-in constructors** such as `np.zeros`, `np.ones`, `np.arange`, and `np.linspace`\n",
    "   to generate arrays of a specific shape or with evenly spaced values."
   ],
   "id": "f223d4bc6eb455d8"
  },
  {
   "metadata": {},
   "cell_type": "code",
   "source": [
    "# np.empty(shape, dtype)\n",
    "# Creates a new array *without initializing* its entries (values are arbitrary).\n",
    "arr_empty = np.empty((2,3), dtype=\"int32\")\n",
    "print(\"np.empty:\\n\", arr_empty)\n",
    "print(\"np.empty type:\", arr_empty.dtype)"
   ],
   "id": "d78709e6b0134289",
   "outputs": [],
   "execution_count": null
  },
  {
   "metadata": {},
   "cell_type": "code",
   "source": [
    "# np.identity(n)\n",
    "# Shortcut for creating a square identity matrix (ones on the main diagonal).\n",
    "arr_identity = np.identity(4)\n",
    "print(\"np.identity:\\n\", arr_identity)"
   ],
   "id": "fdd3dead89dab21f",
   "outputs": [],
   "execution_count": null
  },
  {
   "metadata": {
    "ExecuteTime": {
     "end_time": "2025-10-13T11:36:18.637755Z",
     "start_time": "2025-10-13T11:36:18.627282Z"
    }
   },
   "cell_type": "code",
   "source": [
    "# np.eye(N, M, k)\n",
    "# Creates a 2D array with ones on the main (or k-th) diagonal, zeros elsewhere.\n",
    "arr_eye = np.eye(4,4,-1)\n",
    "print(\"np.eye:\\n\", arr_eye)"
   ],
   "id": "7e9e5f7a324496d6",
   "outputs": [
    {
     "name": "stdout",
     "output_type": "stream",
     "text": [
      "np.eye:\n",
      " [[0. 0. 0. 0.]\n",
      " [1. 0. 0. 0.]\n",
      " [0. 1. 0. 0.]\n",
      " [0. 0. 1. 0.]]\n"
     ]
    }
   ],
   "execution_count": 48
  },
  {
   "metadata": {
    "ExecuteTime": {
     "end_time": "2025-10-13T11:36:30.372590Z",
     "start_time": "2025-10-13T11:36:30.364622Z"
    }
   },
   "cell_type": "code",
   "source": [
    "# np.ones(shape, dtype)\n",
    "# Creates an array of given shape filled with ones.\n",
    "arr_ones = np.ones((2, 4))\n",
    "print(\"np.ones:\\n\", arr_ones)"
   ],
   "id": "ecc36a2338ff3c43",
   "outputs": [
    {
     "name": "stdout",
     "output_type": "stream",
     "text": [
      "np.ones:\n",
      " [[1. 1. 1. 1.]\n",
      " [1. 1. 1. 1.]]\n"
     ]
    }
   ],
   "execution_count": 49
  },
  {
   "metadata": {},
   "cell_type": "code",
   "source": [
    "# np.zeros(shape, dtype)\n",
    "# Creates an array filled with zeros.\n",
    "arr_zeros = np.zeros((3, 3))\n",
    "print(\"np.zeros:\\n\", arr_zeros)"
   ],
   "id": "34c08c3a6fb6ac86",
   "outputs": [],
   "execution_count": null
  },
  {
   "metadata": {},
   "cell_type": "code",
   "source": [
    "# np.full(shape, fill_value)\n",
    "# Creates an array filled with a specified constant value.\n",
    "arr_full = np.full((2, 3), fill_value=7)\n",
    "print(\"np.full:\\n\", arr_full)"
   ],
   "id": "6e109336811c8e5b",
   "outputs": [],
   "execution_count": null
  },
  {
   "metadata": {},
   "cell_type": "code",
   "source": [
    "# np.empty_like(prototype)\n",
    "# Creates an uninitialized array with the *same shape and dtype* as another array.\n",
    "prototype = np.array([[1, 2, 3], [4, 5, 6]], dtype=float)\n",
    "arr_zeros_like = np.zeros_like(prototype)\n",
    "print(\"np.empty_like:\\n\", arr_zeros_like)\n",
    "\n",
    "# Similarly with np.empty_like(a), np.zeros_like(a), np.full_like(a, fill_value)"
   ],
   "id": "73371815235e17fc",
   "outputs": [],
   "execution_count": null
  },
  {
   "metadata": {},
   "cell_type": "code",
   "source": [
    "# np.arange([start,] stop[, step,][, dtype])\n",
    "# Returns evenly spaced values within a given interval.\n",
    "# Similar to Python's range(), but returns a NumPy array.\n",
    "arr_arange = np.arange(0, 10, 2, dtype=float)\n",
    "print(\"np.arange:\\n\", arr_arange)"
   ],
   "id": "669f79b46b4739ed",
   "outputs": [],
   "execution_count": null
  },
  {
   "metadata": {
    "ExecuteTime": {
     "end_time": "2025-10-13T11:36:36.665626Z",
     "start_time": "2025-10-13T11:36:36.653769Z"
    }
   },
   "cell_type": "code",
   "source": [
    "# np.linspace(start, stop[, num, endpoint])\n",
    "# Returns evenly spaced numbers over a specified interval.\n",
    "# Unlike arange, it lets you specify the number of samples.\n",
    "arr_linspace = np.linspace(0, 1, num=5)\n",
    "print(\"np.linspace:\\n\", arr_linspace)"
   ],
   "id": "14a81938b4951f3e",
   "outputs": [
    {
     "name": "stdout",
     "output_type": "stream",
     "text": [
      "np.linspace:\n",
      " [0.   0.25 0.5  0.75 1.  ]\n"
     ]
    }
   ],
   "execution_count": 50
  },
  {
   "metadata": {
    "ExecuteTime": {
     "end_time": "2025-10-13T11:36:44.555347Z",
     "start_time": "2025-10-13T11:36:44.548102Z"
    }
   },
   "cell_type": "code",
   "source": [
    "# np.diag(v[, k])\n",
    "# Construct a diagonal matrix from a 1D array, or extract a diagonal from a 2D array.\n",
    "v = np.array([1, 2, 3])\n",
    "arr_diag = np.diag(v)\n",
    "print(\"np.diag (construct from 1D):\\n\", arr_diag)"
   ],
   "id": "ce6247233767b152",
   "outputs": [
    {
     "name": "stdout",
     "output_type": "stream",
     "text": [
      "np.diag (construct from 1D):\n",
      " [[1 0 0]\n",
      " [0 2 0]\n",
      " [0 0 3]]\n"
     ]
    }
   ],
   "execution_count": 51
  },
  {
   "metadata": {},
   "cell_type": "code",
   "source": [
    "# np.tril(m[, k])\n",
    "# Return the lower triangle of an array (elements above the k-th diagonal are zeroed).\n",
    "m = np.arange(1, 10).reshape(3, 3)\n",
    "arr_tril = np.tril(m)\n",
    "print(\"np.tril (lower triangle):\\n\", arr_tril)\n",
    "\n",
    "# similarly with np.triu(m[, k])"
   ],
   "id": "390f928f5621792f",
   "outputs": [],
   "execution_count": null
  },
  {
   "metadata": {},
   "cell_type": "markdown",
   "source": [
    "\n",
    "3. **Replicating, joining, or mutating existing arrays**\n",
    "   Arrays can be **copied, concatenated, reshaped, or repeated** to create new ones.\n",
    "   For example, you can use `np.tile`, `np.concatenate`, or `reshape` for this purpose."
   ],
   "id": "560d0852690389d5"
  },
  {
   "metadata": {},
   "cell_type": "code",
   "source": [
    "# np.reshape(a, newshape)\n",
    "# Changes the shape of an array without changing its data.\n",
    "a = np.arange(6)\n",
    "print(\"a:\\n\", a)\n",
    "reshaped = np.reshape(a, (3, 2))\n",
    "print(\"np.reshape:\\n\", reshaped)"
   ],
   "id": "6c72643ec73f7a04",
   "outputs": [],
   "execution_count": null
  },
  {
   "metadata": {},
   "cell_type": "code",
   "source": [
    "# a.flatten()\n",
    "# Flatten a multi-dimensional array into 1D.\n",
    "a2 = np.array([[1, 2], [3, 4]])\n",
    "print(\"a.flatten:\\n\", a2.flatten())"
   ],
   "id": "6f52ce66226a0913",
   "outputs": [],
   "execution_count": null
  },
  {
   "metadata": {},
   "cell_type": "code",
   "source": [
    "# np.transpose(a) or a.T\n",
    "# Swaps axes, e.g., turns rows into columns.\n",
    "print(\"np.transpose:\\n\", np.transpose(a2))"
   ],
   "id": "12969da6ffbdfd26",
   "outputs": [],
   "execution_count": null
  },
  {
   "metadata": {},
   "cell_type": "code",
   "source": [
    "# np.swapaxes(a, axis1, axis2)\n",
    "# Swaps any two axes in a multi-dimensional array.\n",
    "a3 = np.arange(8).reshape(2, 2, 2)\n",
    "print(\"a3:\\n\", a3)\n",
    "print(\"np.swapaxes:\\n\", np.swapaxes(a3, 0, 2))"
   ],
   "id": "a511179c3330353f",
   "outputs": [],
   "execution_count": null
  },
  {
   "metadata": {},
   "cell_type": "code",
   "source": [
    "# np.moveaxis(a, source, destination)\n",
    "# Moves a given axis to a new position.\n",
    "a4 = np.zeros((2, 3, 4))\n",
    "print(\"np.moveaxis shape:\", np.moveaxis(a4, 0, -1).shape)"
   ],
   "id": "1416a8532833229c",
   "outputs": [],
   "execution_count": null
  },
  {
   "metadata": {
    "ExecuteTime": {
     "end_time": "2025-10-13T11:36:58.013011Z",
     "start_time": "2025-10-13T11:36:58.005064Z"
    }
   },
   "cell_type": "code",
   "source": [
    "# np.squeeze(a)\n",
    "# Removes axes of length 1.\n",
    "a5 = np.zeros((1, 3, 1))\n",
    "print(\"a5:\\n\", a5)\n",
    "print(\"np.squeeze shape:\", np.squeeze(a5).shape)\n",
    "print(\"a5 squeezed:\\n\", np.squeeze(a5))"
   ],
   "id": "fe89ddd4c223e40e",
   "outputs": [
    {
     "name": "stdout",
     "output_type": "stream",
     "text": [
      "a5:\n",
      " [[[0.]\n",
      "  [0.]\n",
      "  [0.]]]\n",
      "np.squeeze shape: (3,)\n",
      "a5 squeezed:\n",
      " [0. 0. 0.]\n"
     ]
    }
   ],
   "execution_count": 52
  },
  {
   "metadata": {},
   "cell_type": "code",
   "source": [
    "# np.expand_dims(a, axis)\n",
    "# Adds a new dimension (axis) to the array.\n",
    "a6 = np.array([1, 2, 3])\n",
    "print(\"np.expand_dims shape:\", np.expand_dims(a6, axis=0).shape)"
   ],
   "id": "3291832f447d37aa",
   "outputs": [],
   "execution_count": null
  },
  {
   "metadata": {},
   "cell_type": "code",
   "source": [
    "# np.concatenate((a1, a2, ...), axis)\n",
    "# Joins arrays along an existing axis.\n",
    "a7 = np.ones((2, 2))\n",
    "b7 = np.zeros((2, 2))\n",
    "print(\"np.concatenate:\\n\", np.concatenate((a7, b7), axis=1))"
   ],
   "id": "dfa0170e423b6c06",
   "outputs": [],
   "execution_count": null
  },
  {
   "metadata": {
    "ExecuteTime": {
     "end_time": "2025-10-13T10:44:34.336370Z",
     "start_time": "2025-10-13T10:44:34.327843Z"
    }
   },
   "cell_type": "code",
   "source": [
    "# np.stack((a1, a2, ...), axis)\n",
    "# Stacks arrays along a new axis.\n",
    "a8 = np.array([1, 2])\n",
    "b8 = np.array([3, 4])\n",
    "print(\"np.stack:\\n\", np.stack((a8, b8), axis=0))"
   ],
   "id": "afdff07c876803b3",
   "outputs": [
    {
     "name": "stdout",
     "output_type": "stream",
     "text": [
      "np.stack:\n",
      " [[1 2]\n",
      " [3 4]]\n"
     ]
    }
   ],
   "execution_count": 11
  },
  {
   "metadata": {
    "ExecuteTime": {
     "end_time": "2025-10-13T10:44:56.571098Z",
     "start_time": "2025-10-13T10:44:56.564469Z"
    }
   },
   "cell_type": "code",
   "source": [
    "# np.split(a, sections, axis)\n",
    "# Splits an array into multiple subarrays.\n",
    "x = np.arange(9)\n",
    "print(\"np.split:\\n\", np.split(x, 3))"
   ],
   "id": "7e1969d2c8e3e536",
   "outputs": [
    {
     "name": "stdout",
     "output_type": "stream",
     "text": [
      "np.split:\n",
      " [array([0, 1, 2]), array([3, 4, 5]), array([6, 7, 8])]\n"
     ]
    }
   ],
   "execution_count": 12
  },
  {
   "metadata": {
    "ExecuteTime": {
     "end_time": "2025-10-13T10:45:15.069655Z",
     "start_time": "2025-10-13T10:45:15.063853Z"
    }
   },
   "cell_type": "code",
   "source": [
    "# np.copy(a)\n",
    "# Creates a deep copy of the array (independent of the original).\n",
    "a11 = np.array([1, 2, 3])\n",
    "b11 = a11.copy()\n",
    "b11[0] = 99\n",
    "print(\"Original:\", a11, \" | Copy:\", b11)"
   ],
   "id": "549f87be717e0c68",
   "outputs": [
    {
     "name": "stdout",
     "output_type": "stream",
     "text": [
      "Original: [1 2 3]  | Copy: [99  2  3]\n"
     ]
    }
   ],
   "execution_count": 13
  },
  {
   "metadata": {},
   "cell_type": "code",
   "source": [
    "# np.astype(dtype)\n",
    "# Converts array elements to a new type.\n",
    "a12 = np.array([1, 2, 3])\n",
    "print(\"astype to float:\\n\", a12.astype(float))"
   ],
   "id": "a6e2fbe50a50b41e",
   "outputs": [],
   "execution_count": null
  },
  {
   "metadata": {},
   "cell_type": "code",
   "source": [
    "# np.clip(a, min, max)\n",
    "# Limits values to a given range.\n",
    "a13 = np.array([-1, 0, 2, 5])\n",
    "print(\"np.clip:\\n\", np.clip(a13, 0, 3))"
   ],
   "id": "2a265507d63f840",
   "outputs": [],
   "execution_count": null
  },
  {
   "metadata": {},
   "cell_type": "code",
   "source": [
    "# np.where(condition, x, y)\n",
    "# Selects elements based on a condition.\n",
    "a14 = np.array([1, 2, 3])\n",
    "print(\"np.where (a > 1 -> 100):\\n\", np.where(a14 > 1, 100, a14))"
   ],
   "id": "655944d6ee5d49c7",
   "outputs": [],
   "execution_count": null
  },
  {
   "metadata": {},
   "cell_type": "markdown",
   "source": [
    "\n",
    "4. **Creating Arrays from Other Libraries**\n",
    "\n",
    "Many Python libraries — such as **SciPy**, **Pandas**, and **OpenCV** — use NumPy `ndarray` objects as a **common format for data exchange**.\n",
    "These libraries can **create**, **manipulate**, and **interoperate with** NumPy arrays directly.\n"
   ],
   "id": "a39594507e1a836a"
  },
  {
   "metadata": {},
   "cell_type": "markdown",
   "source": [
    "---\n",
    "## 2.3 Indexing arrays"
   ],
   "id": "c095658cbed35428"
  },
  {
   "metadata": {},
   "cell_type": "markdown",
   "source": "Note that Python indexes (unlike for example R) start from 0, not from 1.",
   "id": "af057b561b906e05"
  },
  {
   "metadata": {},
   "cell_type": "markdown",
   "source": "### Basic Indexing",
   "id": "395343aaf26987ba"
  },
  {
   "metadata": {},
   "cell_type": "code",
   "source": [
    "# Create a 2D array for demonstration\n",
    "x = np.arange(1, 13).reshape(3, 4)\n",
    "print(\"Array x:\\n\", x)\n",
    "\n",
    "# 1. Single element indexing\n",
    "print(\"Single element x[1, 2]:\", x[1, 2])\n",
    "print(\"Same by chained indexing x[1][2]:\", x[1][2])"
   ],
   "id": "fe588aaa2cb62ffc",
   "outputs": [],
   "execution_count": null
  },
  {
   "metadata": {},
   "cell_type": "code",
   "source": [
    "# 2. If fewer indices than dimensions, returns a subarray (view)\n",
    "print(\"x[0] returns first row (view):\", x[0])"
   ],
   "id": "7615f519beb291a1",
   "outputs": [],
   "execution_count": null
  },
  {
   "metadata": {},
   "cell_type": "code",
   "source": [
    "# 3. Slicing (rows, columns)\n",
    "print(\"x[0:2, 1:4] → rows 0 and 1, columns 1 to 3:\\n\", x[0:2, 1:4])"
   ],
   "id": "b6f293c0cdc6bd7f",
   "outputs": [],
   "execution_count": null
  },
  {
   "metadata": {
    "ExecuteTime": {
     "end_time": "2025-10-13T10:48:09.369867Z",
     "start_time": "2025-10-13T10:48:09.236762Z"
    }
   },
   "cell_type": "code",
   "source": [
    "# 4. Striding with step (convention start:stop:step)\n",
    "print(\"x[:, ::2] → all rows, every second column:\\n\", x[:, ::2])"
   ],
   "id": "a3e44e2fbf01de17",
   "outputs": [
    {
     "ename": "IndexError",
     "evalue": "too many indices for array: array is 1-dimensional, but 2 were indexed",
     "output_type": "error",
     "traceback": [
      "\u001B[31m---------------------------------------------------------------------------\u001B[39m",
      "\u001B[31mIndexError\u001B[39m                                Traceback (most recent call last)",
      "\u001B[36mCell\u001B[39m\u001B[36m \u001B[39m\u001B[32mIn[14]\u001B[39m\u001B[32m, line 2\u001B[39m\n\u001B[32m      1\u001B[39m \u001B[38;5;66;03m# 4. Striding with step (convention start:stop:step)\u001B[39;00m\n\u001B[32m----> \u001B[39m\u001B[32m2\u001B[39m \u001B[38;5;28mprint\u001B[39m(\u001B[33m\"\u001B[39m\u001B[33mx[:, ::2] → all rows, every second column:\u001B[39m\u001B[38;5;130;01m\\n\u001B[39;00m\u001B[33m\"\u001B[39m, \u001B[43mx\u001B[49m\u001B[43m[\u001B[49m\u001B[43m:\u001B[49m\u001B[43m,\u001B[49m\u001B[43m \u001B[49m\u001B[43m:\u001B[49m\u001B[43m:\u001B[49m\u001B[32;43m2\u001B[39;49m\u001B[43m]\u001B[49m)\n",
      "\u001B[31mIndexError\u001B[39m: too many indices for array: array is 1-dimensional, but 2 were indexed"
     ]
    }
   ],
   "execution_count": 14
  },
  {
   "metadata": {},
   "cell_type": "code",
   "source": [
    "# 5. Using negative indices\n",
    "print(\"x[-1, -2]:\", x[-1, -2])  # last row, second-last column"
   ],
   "id": "98c46369ed246a0b",
   "outputs": [],
   "execution_count": null
  },
  {
   "metadata": {},
   "cell_type": "code",
   "source": [
    "# 6. Ellipsis (`...`) and `newaxis` (alias None)\n",
    "# Ellipsis expands to as many \":\" as needed\n",
    "print(\"x[..., 2] → same as x[:, 2]:\", x[..., 2])\n",
    "\n",
    "# newaxis introduces a new dimension\n",
    "y = x[:, 1]  # shape (3,)\n",
    "y2 = x[:, 1, np.newaxis]  # shape (3,1)\n",
    "print(\"y shape:\", y.shape, \"   y2 shape:\", y2.shape)"
   ],
   "id": "5c07e59fccda7397",
   "outputs": [],
   "execution_count": null
  },
  {
   "metadata": {},
   "cell_type": "markdown",
   "source": [
    "- All slicing operations produce views, not copies — they refer to the same underlying data.\n",
    "- Because of this, modifying a slice will affect the original array.\n",
    "- When using integer indexing (not slicing), you reduce a dimension.\n",
    "- : means “select all elements along this axis”.\n",
    "- ... is a convenient placeholder to fill in missing : for remaining axes."
   ],
   "id": "7c9700d74a9d0ca6"
  },
  {
   "metadata": {},
   "cell_type": "markdown",
   "source": "### Advanced Indexing",
   "id": "6badd678ca258696"
  },
  {
   "metadata": {},
   "cell_type": "code",
   "source": [
    "x = np.arange(1, 13).reshape(3, 4)\n",
    "print(\"Array x:\\n\", x)\n",
    "\n",
    "# 1. Integer array indexing\n",
    "row_idx = [0, 2]\n",
    "col_idx = [1, 3]\n",
    "# Select elements (0,1) and (2,3)\n",
    "print(\"x[row_idx, col_idx]:\", x[row_idx, col_idx])\n",
    "\n",
    "# Equivalent as\n",
    "print(\"The same as:\", np.array([x[0,1],x[2,3]]))"
   ],
   "id": "dfd44a3583fe9b5d",
   "outputs": [],
   "execution_count": null
  },
  {
   "metadata": {},
   "cell_type": "code",
   "source": [
    "# 2. Broadcasting integer indices\n",
    "# If you supply fewer index arrays or scalars, they broadcast\n",
    "print(\"x[row_idx, 2]:\", x[row_idx, 2])\n",
    "print(\"The same as:\", x[[0,2], [2,2]])"
   ],
   "id": "2e01282e7b2dc228",
   "outputs": [],
   "execution_count": null
  },
  {
   "metadata": {
    "ExecuteTime": {
     "end_time": "2025-10-13T11:09:57.797147Z",
     "start_time": "2025-10-13T11:09:57.776102Z"
    }
   },
   "cell_type": "code",
   "source": [
    "# 3. Boolean masking (Boolean indexing)\n",
    "mask = x % 2 == 0  # True for even numbers\n",
    "print(\"Boolean mask:\\n\", mask)\n",
    "print(\"x[mask] → all even elements:\", x[mask])\n",
    "\n",
    "# Example modification using Boolean mask\n",
    "x2 = x.copy()\n",
    "x2[x2 % 2 == 1] = -1\n",
    "print(\"x2 with odd elements replaced by –1:\\n\", x2)"
   ],
   "id": "b3437a8fb58c4efa",
   "outputs": [
    {
     "name": "stdout",
     "output_type": "stream",
     "text": [
      "Boolean mask:\n",
      " [ True False  True False  True False  True False  True]\n",
      "x[mask] → all even elements: [0 2 4 6 8]\n",
      "x2 with odd elements replaced by –1:\n",
      " [ 0 -1  2 -1  4 -1  6 -1  8]\n"
     ]
    }
   ],
   "execution_count": 20
  },
  {
   "metadata": {
    "ExecuteTime": {
     "end_time": "2025-10-13T11:11:51.239829Z",
     "start_time": "2025-10-13T11:11:51.206268Z"
    }
   },
   "cell_type": "code",
   "source": [
    "# 4. Combining basic and advanced indexing\n",
    "# e.g. select rows 0 and 2, but columns 1:3\n",
    "print(\"x[[0, 2], 1:3]:\\n\", x[[0, 2], 1:3])"
   ],
   "id": "24ab23d2074f399d",
   "outputs": [
    {
     "ename": "IndexError",
     "evalue": "too many indices for array: array is 1-dimensional, but 2 were indexed",
     "output_type": "error",
     "traceback": [
      "\u001B[31m---------------------------------------------------------------------------\u001B[39m",
      "\u001B[31mIndexError\u001B[39m                                Traceback (most recent call last)",
      "\u001B[36mCell\u001B[39m\u001B[36m \u001B[39m\u001B[32mIn[21]\u001B[39m\u001B[32m, line 3\u001B[39m\n\u001B[32m      1\u001B[39m \u001B[38;5;66;03m# 4. Combining basic and advanced indexing\u001B[39;00m\n\u001B[32m      2\u001B[39m \u001B[38;5;66;03m# e.g. select rows 0 and 2, but columns 1:3\u001B[39;00m\n\u001B[32m----> \u001B[39m\u001B[32m3\u001B[39m \u001B[38;5;28mprint\u001B[39m(\u001B[33m\"\u001B[39m\u001B[33mx[[0, 2], 1:3]:\u001B[39m\u001B[38;5;130;01m\\n\u001B[39;00m\u001B[33m\"\u001B[39m, \u001B[43mx\u001B[49m\u001B[43m[\u001B[49m\u001B[43m[\u001B[49m\u001B[32;43m0\u001B[39;49m\u001B[43m,\u001B[49m\u001B[43m \u001B[49m\u001B[32;43m2\u001B[39;49m\u001B[43m]\u001B[49m\u001B[43m,\u001B[49m\u001B[43m \u001B[49m\u001B[32;43m1\u001B[39;49m\u001B[43m:\u001B[49m\u001B[32;43m3\u001B[39;49m\u001B[43m]\u001B[49m)\n",
      "\u001B[31mIndexError\u001B[39m: too many indices for array: array is 1-dimensional, but 2 were indexed"
     ]
    }
   ],
   "execution_count": 21
  },
  {
   "metadata": {},
   "cell_type": "markdown",
   "source": [
    "---\n",
    "## 2.4 Array attributes\n",
    "\n",
    "- Every NumPy array is a Python object of class `numpy.ndarray`.\n",
    "- Besides storing the actual data, it also stores various attributes that describe its structure and memory layout."
   ],
   "id": "ec2840f9aa5bdd68"
  },
  {
   "metadata": {},
   "cell_type": "code",
   "source": [
    "# Let's create a simple 2D array\n",
    "a = np.array([[1, 2, 3, 4],\n",
    "              [5, 6, 7, 8],\n",
    "              [9, 10, 11, 12]])\n",
    "\n",
    "print(\"Type of numpy array object:\", type(a))"
   ],
   "id": "b34842346a73237a",
   "outputs": [],
   "execution_count": null
  },
  {
   "metadata": {},
   "cell_type": "code",
   "source": [
    "print(\"Number of dimensions (ndim):\", a.ndim)\n",
    "print(\"Shape (rows, columns):\", a.shape)\n",
    "print(\"Total number of elements (size):\", a.size)\n",
    "print(\"Data type (dtype):\", a.dtype)\n",
    "print(\"Size of one element in bytes (itemsize):\", a.itemsize)\n",
    "print(\"Total size in bytes (nbytes):\", a.nbytes)\n",
    "print(\"Transposed array (T):\\n\", a.T)"
   ],
   "id": "b35c323296e240e0",
   "outputs": [],
   "execution_count": null
  },
  {
   "metadata": {},
   "cell_type": "markdown",
   "source": [
    "Example explanation:\n",
    "- ndim   → tells how many axes (dimensions) the array has\n",
    "- shape  → gives the length of each dimension as a tuple\n",
    "- size   → total count of elements = product of shape entries\n",
    "- dtype  → data type of the elements (e.g. int32, float64)\n",
    "- itemsize → bytes per element, depends on dtype\n",
    "- nbytes   → total memory used by the array\n",
    "- T        → shorthand for the transposed view (rows <-> columns)\n"
   ],
   "id": "dfa4c7396c3a8a57"
  },
  {
   "metadata": {},
   "cell_type": "markdown",
   "source": [
    "---\n",
    "## 2.5 Array methods\n",
    "\n",
    "- A NumPy ndarray provides many built-in methods that operate on the array or return information about it. Most of these methods return a new array or a computed value derived from the data."
   ],
   "id": "b9e6f3602326c5a2"
  },
  {
   "metadata": {
    "ExecuteTime": {
     "end_time": "2025-10-13T11:38:47.239512Z",
     "start_time": "2025-10-13T11:38:47.232018Z"
    }
   },
   "cell_type": "code",
   "source": [
    "# Create a 2D array\n",
    "a = np.array([[1, 2, 3], [4, 5, 6]])\n",
    "\n",
    "# Reshape the array to 3 rows and 2 columns\n",
    "reshaped = a.reshape(3, 2)\n",
    "print(\"Reshaped array:\\n\", reshaped)\n",
    "\n",
    "# Flatten the array to 1D\n",
    "flattened = a.flatten()\n",
    "print(\"\\nFlattened array:\", flattened)"
   ],
   "id": "5a936f3ac91b1739",
   "outputs": [
    {
     "name": "stdout",
     "output_type": "stream",
     "text": [
      "Reshaped array:\n",
      " [[1 2]\n",
      " [3 4]\n",
      " [5 6]]\n",
      "\n",
      "Flattened array: [1 2 3 4 5 6]\n"
     ]
    }
   ],
   "execution_count": 53
  },
  {
   "metadata": {
    "ExecuteTime": {
     "end_time": "2025-10-13T11:38:51.134379Z",
     "start_time": "2025-10-13T11:38:51.127298Z"
    }
   },
   "cell_type": "code",
   "source": [
    "# --- Max and Min ---\n",
    "print(\"Max element:\", a.max())                  # ndarray.max()\n",
    "print(\"Index of max (flattened):\", a.argmax())  # ndarray.argmax()\n",
    "print(\"Min element:\", a.min())                  # ndarray.min()\n",
    "print(\"Index of min (flattened):\", a.argmin())  # ndarray.argmin()"
   ],
   "id": "11e7eda086d3efc5",
   "outputs": [
    {
     "name": "stdout",
     "output_type": "stream",
     "text": [
      "Max element: 6\n",
      "Index of max (flattened): 5\n",
      "Min element: 1\n",
      "Index of min (flattened): 0\n"
     ]
    }
   ],
   "execution_count": 54
  },
  {
   "metadata": {},
   "cell_type": "code",
   "source": [
    "# --- Rounding ---\n",
    "arr_float = np.array([[1.234, 2.567], [3.891, 4.456]])\n",
    "rounded = arr_float.round(1)             # Round to 1 decimal\n",
    "print(\"Rounded array:\\n\", rounded)"
   ],
   "id": "d6de26ada6300b70",
   "outputs": [],
   "execution_count": null
  },
  {
   "metadata": {},
   "cell_type": "code",
   "source": [
    "# --- Trace ---\n",
    "print(\"Trace (sum of diagonal):\", a.trace())  # Sum along main diagonal"
   ],
   "id": "295bffa74f875540",
   "outputs": [],
   "execution_count": null
  },
  {
   "metadata": {},
   "cell_type": "code",
   "source": [
    "# --- Sum, Cumsum, Mean ---\n",
    "print(\"Sum of all elements:\", a.sum())\n",
    "print(\"Cumulative sum along rows:\\n\", a.cumsum(axis=1))\n",
    "print(\"Mean along columns:\", a.mean(axis=0))"
   ],
   "id": "700d744eaf72f44b",
   "outputs": [],
   "execution_count": null
  },
  {
   "metadata": {},
   "cell_type": "code",
   "source": [
    "# --- Variance and Standard Deviation ---\n",
    "print(\"Variance of all elements:\", a.var())\n",
    "print(\"Standard deviation:\", a.std())"
   ],
   "id": "513404c19cf54d86",
   "outputs": [],
   "execution_count": null
  },
  {
   "metadata": {
    "ExecuteTime": {
     "end_time": "2025-10-13T11:39:33.406600Z",
     "start_time": "2025-10-13T11:39:33.396982Z"
    }
   },
   "cell_type": "code",
   "source": [
    "# --- Logical checks ---\n",
    "print(\"All elements > 0?\", (a > 0).all())\n",
    "print(\"Any element > 5?\", (a > 5).any())"
   ],
   "id": "e97c3164b8cde35c",
   "outputs": [
    {
     "name": "stdout",
     "output_type": "stream",
     "text": [
      "All elements > 0? True\n",
      "Any element > 5? True\n"
     ]
    }
   ],
   "execution_count": 55
  },
  {
   "metadata": {},
   "cell_type": "markdown",
   "source": [
    "---\n",
    "## 2.6 Arithmetic and linear algebra\n"
   ],
   "id": "7c42182120b48203"
  },
  {
   "metadata": {},
   "cell_type": "code",
   "source": [
    "# Create example arrays\n",
    "a = np.array([[1, 2], [3, 4]])\n",
    "b = np.array([[5, 6], [7, 8]])\n",
    "\n",
    "print(\"Array a:\\n\", a)\n",
    "print(\"Array b:\\n\", b)\n"
   ],
   "id": "9817527bcfd9b6d8",
   "outputs": [],
   "execution_count": null
  },
  {
   "metadata": {},
   "cell_type": "code",
   "source": [
    "# Addition (elementwise)\n",
    "print(\"Addition (a + b):\\n\", a + b)\n",
    "\n",
    "# Subtraction (elementwise)\n",
    "print(\"Subtraction (a - b):\\n\", a - b)\n",
    "\n",
    "# Multiplication (elementwise)\n",
    "print(\"Elementwise multiplication (a * b):\\n\", a * b)\n",
    "\n",
    "# Division (elementwise)\n",
    "print(\"Elementwise division (a / b):\\n\", a / b)\n",
    "\n",
    "# Exponentiation (elementwise)\n",
    "print(\"Elementwise power (a ** 2):\\n\", a ** 2)\n",
    "\n",
    "# Modulo (elementwise)\n",
    "print(\"Elementwise modulo (b % a):\\n\", b % a)"
   ],
   "id": "e80d6deeb1172623",
   "outputs": [],
   "execution_count": null
  },
  {
   "metadata": {},
   "cell_type": "code",
   "source": [
    "# Matrix multiplication\n",
    "matmul = a @ b  # or np.matmul(a, b)\n",
    "print(\"Matrix multiplication (a @ b):\\n\", matmul)\n",
    "\n",
    "# Dot product\n",
    "dot = np.dot(a[0], b[0])\n",
    "print(\"Dot product (np.dot(a[0], b[0])):\\n\", dot)\n",
    "\n",
    "# Transpose\n",
    "print(\"Transpose of a (a.T):\\n\", a.T)\n",
    "\n",
    "# Determinant\n",
    "det = np.linalg.det(a)\n",
    "print(\"Determinant of a:\", det)\n",
    "\n",
    "# Inverse\n",
    "inv = np.linalg.inv(a)\n",
    "print(\"Inverse of a:\\n\", inv)\n",
    "\n",
    "# Eigenvalues and eigenvectors\n",
    "eigvals, eigvecs = np.linalg.eig(a)\n",
    "print(\"Eigenvalues of a:\", eigvals)\n",
    "print(\"Eigenvectors of a:\\n\", eigvecs)\n",
    "\n",
    "# Norms\n",
    "norm_a0 = np.linalg.norm(a[0])\n",
    "print(\"Frobenius norm of a[0]:\", norm_a0)"
   ],
   "id": "bcb1864cd144ae",
   "outputs": [],
   "execution_count": null
  },
  {
   "metadata": {},
   "cell_type": "markdown",
   "source": [
    "---\n",
    "## 2.7 Miscellaneous"
   ],
   "id": "34e8ef6774f9f33b"
  },
  {
   "metadata": {},
   "cell_type": "markdown",
   "source": "**NumPy** provides optimized **mathematical functions** that work directly on entire arrays (`np.array` objects). These functions are implemented in **compiled C code**, which makes them **very fast**. They automatically apply the operation **elementwise** to all elements in the array — this is called **vectorization**.",
   "id": "63040b8ed22d0802"
  },
  {
   "metadata": {
    "ExecuteTime": {
     "end_time": "2025-10-13T11:39:59.579518Z",
     "start_time": "2025-10-13T11:39:59.570897Z"
    }
   },
   "cell_type": "code",
   "source": [
    "# These are elementwise functions that operate efficiently on ndarrays.\n",
    "\n",
    "# Create an example array\n",
    "a = np.array([0, np.pi/4, np.pi/2, np.pi])\n",
    "print(\"Array a:\\n\", a)\n",
    "\n",
    "# Elementwise trigonometric functions\n",
    "print(\"sin(a):\", np.sin(a))"
   ],
   "id": "d953338247784bf",
   "outputs": [
    {
     "name": "stdout",
     "output_type": "stream",
     "text": [
      "Array a:\n",
      " [0.         0.78539816 1.57079633 3.14159265]\n",
      "sin(a): [0.00000000e+00 7.07106781e-01 1.00000000e+00 1.22464680e-16]\n"
     ]
    }
   ],
   "execution_count": 56
  },
  {
   "metadata": {},
   "cell_type": "code",
   "source": [
    "b = np.array([1, 2, 3, 4])\n",
    "print(\"Array b:\\n\", b)\n",
    "\n",
    "# Exponential\n",
    "print(\"Exponential (e^b):\", np.exp(b))\n",
    "\n",
    "# Logarithms\n",
    "print(\"Natural log (ln(b)):\", np.log(b))\n",
    "print(\"Log base 10:\", np.log10(b))\n",
    "\n",
    "# Power\n",
    "print(\"b cubed:\", np.power(b, 3))\n",
    "c = np.array([1.234, 5.678, -9.1011])\n",
    "\n",
    "# Round to nearest integer\n",
    "print(\"Rounded:\", np.round(c))\n",
    "\n",
    "# Floor and ceiling\n",
    "print(\"Floor:\", np.floor(c))\n",
    "print(\"Ceil:\", np.ceil(c))\n",
    "\n",
    "# Absolute values\n",
    "print(\"Absolute values:\", np.abs(c))\n",
    "d = np.array([1, 2, 3, 4, 5])\n",
    "\n",
    "# Sum/product\n",
    "print(\"Sum:\", np.sum(d))\n",
    "print(\"Product:\", np.prod(d))"
   ],
   "id": "c0321d1a10da90b2",
   "outputs": [],
   "execution_count": null
  },
  {
   "metadata": {
    "ExecuteTime": {
     "end_time": "2025-10-05T16:52:24.663073Z",
     "start_time": "2025-10-05T16:52:24.650415Z"
    }
   },
   "cell_type": "markdown",
   "source": [
    "---\n",
    "## 2.8 Python lists vs NumPy arrays\n",
    "\n",
    "Python lists are flexible but **slow and memory-inefficient** for numerical computations.\n",
    "NumPy arrays (`ndarray`) store data in **contiguous memory** and support **vectorized operations**, making them much faster and smaller in memory footprint.\n",
    "\n",
    "Let's compare both in terms of **execution speed** and **memory usage**."
   ],
   "id": "fdc7d204dbd8c0b8"
  },
  {
   "metadata": {
    "ExecuteTime": {
     "end_time": "2025-10-13T10:34:26.811238Z",
     "start_time": "2025-10-13T10:34:26.565486Z"
    }
   },
   "cell_type": "code",
   "source": [
    "import time, sys\n",
    "\n",
    "# Create a large list and a NumPy array\n",
    "n = 1_000_000\n",
    "py_list = list(range(n))\n",
    "np_array = np.arange(n)\n",
    "\n",
    "# Compare memory usage of both objects\n",
    "list_mem = sys.getsizeof(py_list) + sum(sys.getsizeof(x) for x in py_list)\n",
    "array_mem = np_array.nbytes\n",
    "print(f\"Python list memory: {list_mem / 1e6:.2f} MB\")\n",
    "print(f\"NumPy array memory: {array_mem / 1e6:.2f} MB\")\n",
    "print(f\"Memory ratio (list / array): {list_mem / array_mem:.1f}×\")\n",
    "\n",
    "# Compute 2x Python list\n",
    "list_start = time.time()\n",
    "list_result = [x * 2 for x in py_list]\n",
    "list_end = time.time()\n",
    "print(f\"Python list time: {list_end - list_start:.5f} s\")\n",
    "\n",
    "# Compute 2x NumPy array\n",
    "array_start = time.time()\n",
    "array_result = np_array * 2\n",
    "array_end = time.time()\n",
    "print(f\"NumPy array time: {array_end - array_start:.5f} s\")\n",
    "print(f\"Execution speed ratio (list / array): {(list_end - list_start) / (array_end - array_start):.1f}×\")"
   ],
   "id": "a52bd6ebbaba5e3d",
   "outputs": [
    {
     "name": "stdout",
     "output_type": "stream",
     "text": [
      "Python list memory: 36.00 MB\n",
      "NumPy array memory: 8.00 MB\n",
      "Memory ratio (list / array): 4.5×\n",
      "Python list time: 0.05209 s\n",
      "NumPy array time: 0.00144 s\n",
      "Execution speed ratio (list / array): 36.1×\n"
     ]
    }
   ],
   "execution_count": 10
  },
  {
   "metadata": {},
   "cell_type": "markdown",
   "source": [
    "**Observation:**\n",
    "\n",
    "- NumPy operations are much faster because they run in optimized C loops rather than Python loops.\n",
    "- NumPy arrays use far less memory because all elements share the same data type and they are stored in an efficient way\n",
    "\n",
    "➡️ This demonstrates the two biggest advantages of NumPy:\n",
    "1. **Vectorization** (no explicit loops)\n",
    "2. **Efficient memory representation**"
   ],
   "id": "740be24bfb152f1e"
  },
  {
   "metadata": {},
   "cell_type": "markdown",
   "source": [
    "---\n",
    "## 2.9  🏠 Homework: NumPy Arrays in Data Science\n",
    "\n",
    "### Task Overview\n",
    "In this assignment, you will practice working with **NumPy arrays** and **mathematical functions** to perform a mini data analysis. You will simulate a small part of a **data preprocessing pipeline** — a common step in data science when dealing with multivariate datasets.\n",
    "\n",
    "### Your Task\n",
    "\n",
    "1. **Generate synthetic data:**\n",
    "   - Create a NumPy array `data` of shape **(100, 10)** — representing 100 samples and 10 features.\n",
    "   - The values should be drawn from a **normal distribution** with mean = 50 and standard deviation = 10 using\n",
    "      `np.random.normal(loc=50, scale=10, size=(100, 10))`.\n",
    "   - Print the shape, data type, and the **first 5 rows** of the array.\n",
    "\n",
    "2. **Data cleaning:**\n",
    "   - Replace all values **smaller than 20** or **larger than 80** with `np.nan` (treat them as outliers).\n",
    "   - Print how many `np.nan` values are now in the array.\n",
    "\n",
    "3. **Handle missing values:**\n",
    "   - Compute the **mean of each column** ignoring missing values (`np.nanmean`).\n",
    "   - Replace all `np.nan` values in each column with that column’s mean.\n",
    "\n",
    "4. **Data transformation:**\n",
    "   - **Standardize each column** so that it has mean 0 and standard deviation 1.\n",
    "   - Create a new array where:\n",
    "     - all positive standardized values are replaced with their **square roots**,\n",
    "     - negative values remain unchanged.\n",
    "   - For the first 5 rows, also compute the **exponential (`np.exp`)** of all standardized values and print the result.\n",
    "\n",
    "5. **Array indexing and logical operations:**\n",
    "   - Compute the **75th percentile** for each column.\n",
    "   - Create a Boolean mask that marks all values above the 75th percentile.\n",
    "   - Print how many such “high” values there are in total.\n",
    "   - Replace all values **below the 25th percentile** (computed column-wise) with the 25th percentile value (a simple form of *winsorization*).\n",
    "\n",
    "6. **Descriptive statistics:**\n",
    "   - Compute and print for the final cleaned dataset:\n",
    "     - column-wise **mean**, **median**, **variance**, and **standard deviation**,\n",
    "     - the **overall mean** of the entire array,\n",
    "     - and the **minimum and maximum** values per column.\n",
    "\n",
    "### ✍️ Hints\n",
    "- Use functions such as `np.mean`, `np.std`, `np.nanmean`, `np.isnan`, `np.where`, `np.percentile`, `np.sqrt`, and `np.exp`.\n",
    "- Remember to specify the `axis` argument when computing column-wise statistics (`axis=0`).\n",
    "- Use **vectorized operations** — avoid `for` loops.\n",
    "- Include **comments or docstrings** to make your code clear and readable.\n"
   ],
   "id": "e8feb0514d3defb9"
  },
  {
   "metadata": {},
   "cell_type": "markdown",
   "source": [
    "---\n",
    "## Your solution:"
   ],
   "id": "fdc89ef6b5f4c40a"
  },
  {
   "metadata": {
    "ExecuteTime": {
     "end_time": "2025-10-14T19:33:05.278665Z",
     "start_time": "2025-10-14T19:33:05.193284Z"
    }
   },
   "cell_type": "code",
   "source": [
    "#1\n",
    "#data\n",
    "data = np.random.normal(loc=50, scale=10, size=(100, 10))\n",
    "print(\"Shape:\",data.shape)\n",
    "print(\"Data type:\",data.dtype)\n",
    "print(\"First 5 rows:\\n\",data[:5])"
   ],
   "id": "8bdc83d9e0e707de",
   "outputs": [
    {
     "name": "stdout",
     "output_type": "stream",
     "text": [
      "Shape: (100, 10)\n",
      "Data type: float64\n",
      "First 5 rows:\n",
      " [[58.66124975 56.18488318 32.60624431 48.23064869 62.2637727  54.55225742\n",
      "  52.95903298 62.52650676 54.75436902 44.74286142]\n",
      " [56.59962365 45.96321646 53.41572277 49.28493307 28.40342521 50.32384125\n",
      "  40.66541909 51.95027681 47.98012014 61.22962596]\n",
      " [48.25525645 49.19555686 65.2733006  64.9854573  57.51335015 60.25131964\n",
      "  59.84391726 25.43526845 59.48149919 68.52628364]\n",
      " [56.25036991 54.67152723 70.71019434 62.73754089 50.49636097 27.75173361\n",
      "  69.59978181 46.11839934 63.37433814 57.26380967]\n",
      " [54.13084807 62.48832298 41.3428237  51.67072996 45.31146536 41.83798495\n",
      "  64.65351886 41.21979201 47.48311232 39.12823888]]\n"
     ]
    }
   ],
   "execution_count": 61
  },
  {
   "metadata": {
    "ExecuteTime": {
     "end_time": "2025-10-14T19:33:07.463780Z",
     "start_time": "2025-10-14T19:33:07.444314Z"
    }
   },
   "cell_type": "code",
   "source": [
    "#2\n",
    "data2 = data.copy()\n",
    "data2[( data2 < 20) | ( data2 > 80)] = np.nan\n",
    "print(\"Count of nan:\",int(np.sum(np.isnan(data2)).sum()))"
   ],
   "id": "6562126f22cc681c",
   "outputs": [
    {
     "name": "stdout",
     "output_type": "stream",
     "text": [
      "Count of nan: 2\n"
     ]
    }
   ],
   "execution_count": 62
  },
  {
   "metadata": {
    "ExecuteTime": {
     "end_time": "2025-10-14T19:33:09.870037Z",
     "start_time": "2025-10-14T19:33:09.844248Z"
    }
   },
   "cell_type": "code",
   "source": [
    "#3\n",
    "means = np.nanmean(data2, axis=0)\n",
    "print(\"Column means:\\n\", means)\n",
    "data3 = np.where(np.isnan(data2), means, data2)"
   ],
   "id": "b070f9ecdf01cb3e",
   "outputs": [
    {
     "name": "stdout",
     "output_type": "stream",
     "text": [
      "Column means:\n",
      " [51.3763329  52.06466694 49.87979402 51.34256001 49.6179163  49.89668824\n",
      " 51.61185781 48.72653463 52.36109503 50.00846851]\n"
     ]
    }
   ],
   "execution_count": 63
  },
  {
   "metadata": {
    "ExecuteTime": {
     "end_time": "2025-10-14T19:33:11.729409Z",
     "start_time": "2025-10-14T19:33:11.698998Z"
    }
   },
   "cell_type": "code",
   "source": [
    "#4\n",
    "stds = np.std(data3, axis=0)\n",
    "data4 = (data3 - means) / stds\n",
    "data5 = np.where(data4 > 0, np.sqrt(data4), data4)\n",
    "print(\"Normalized and exponential:\\n\",np.exp(data5[:5]))\n"
   ],
   "id": "f29c68430c6aee16",
   "outputs": [
    {
     "name": "stdout",
     "output_type": "stream",
     "text": [
      "Normalized and exponential:\n",
      " [[2.33850188 1.88801387 0.16862196 0.72878436 3.12815386 1.93070485\n",
      "  1.4430655  3.24372718 1.65715395 0.56558621]\n",
      " [2.05305849 0.54985149 1.82877523 0.81123954 0.11282882 1.22051902\n",
      "  0.33519632 1.76604397 0.62686727 3.01025292]\n",
      " [0.73404554 0.75483935 3.52367476 3.24696597 2.46238412 2.66749562\n",
      "  2.47599313 0.09661462 2.38985849 4.11931402]\n",
      " [2.00343996 1.65783474 4.32815783 2.93389583 1.35063877 0.12761426\n",
      "  3.8198344  0.76974345 2.95508705 2.42574244]\n",
      " [1.68602042 2.7479117  0.41488131 1.20040371 0.64216307 0.47274886\n",
      "  3.13040819 0.47084799 0.59451909 0.30802979]]\n"
     ]
    },
    {
     "name": "stderr",
     "output_type": "stream",
     "text": [
      "C:\\Users\\jansk\\AppData\\Local\\Temp\\ipykernel_19260\\2974270518.py:4: RuntimeWarning: invalid value encountered in sqrt\n",
      "  data5 = np.where(data4 > 0, np.sqrt(data4), data4)\n"
     ]
    }
   ],
   "execution_count": 64
  },
  {
   "metadata": {
    "ExecuteTime": {
     "end_time": "2025-10-14T19:33:14.474809Z",
     "start_time": "2025-10-14T19:33:14.441294Z"
    }
   },
   "cell_type": "code",
   "source": [
    "#5\n",
    "percentile_75 = np.percentile(data5, 75, axis=0)\n",
    "\n",
    "# Vytvoření booleovské masky pro hodnoty nad 75. percentilem\n",
    "high_value_mask = data5 > percentile_75\n",
    "print(\"High values count:\", high_value_mask.sum())\n",
    "data6 = np.where(data5 < np.percentile(data5, 25, axis=0), np.percentile(data5, 25, axis=0), data5)"
   ],
   "id": "702928c31939b5ec",
   "outputs": [
    {
     "name": "stdout",
     "output_type": "stream",
     "text": [
      "High values count: 250\n"
     ]
    }
   ],
   "execution_count": 65
  },
  {
   "metadata": {
    "ExecuteTime": {
     "end_time": "2025-10-14T19:33:16.390154Z",
     "start_time": "2025-10-14T19:33:16.369591Z"
    }
   },
   "cell_type": "code",
   "source": [
    "#6\n",
    "print(\"Column means:\\n\",np.mean(data6, axis=0))\n",
    "print(\"Column medians:\\n\",np.median(data6, axis=0))\n",
    "print(\"Column var:\\n\",np.var(data6, axis=0))\n",
    "print(\"Column std:\\n\",np.std(data6, axis=0))\n",
    "print(\"Overall mean:\\n\",np.mean(data6))\n",
    "print(\"Max of each column:\\n\",np.max(data6,axis=0))\n",
    "print(\"Min of each column:\\n\",np.min(data6,axis=0))"
   ],
   "id": "70f70d968c1694ad",
   "outputs": [
    {
     "name": "stdout",
     "output_type": "stream",
     "text": [
      "Column means:\n",
      " [0.14593411 0.2004308  0.14167653 0.15308057 0.1850949  0.15038059\n",
      " 0.16468536 0.14471199 0.17466602 0.10247968]\n",
      "Column medians:\n",
      " [ 0.27491409 -0.06913082  0.15601999 -0.10172632  0.41832805  0.27645973\n",
      "  0.19534496 -0.05392273  0.27918455 -0.15027481]\n",
      "Column var:\n",
      " [0.58131152 0.45594524 0.56911247 0.51059    0.57196134 0.5925015\n",
      " 0.52449327 0.49624877 0.54776827 0.5409356 ]\n",
      "Column std:\n",
      " [0.76243788 0.67523717 0.75439544 0.71455581 0.75628126 0.76974119\n",
      " 0.72421908 0.70444927 0.74011369 0.73548324]\n",
      "Overall mean:\n",
      " 0.15631405293642917\n",
      "Max of each column:\n",
      " [1.67081588 1.51476339 1.47501622 1.63054527 1.47413071 1.49943324\n",
      " 1.65752828 1.70142325 1.52972214 1.64104978]\n",
      "Min of each column:\n",
      " [-0.78827416 -0.53914222 -0.74918715 -0.63627476 -0.74451055 -0.7883133\n",
      " -0.70419184 -0.60481504 -0.73825896 -0.65371499]\n"
     ]
    }
   ],
   "execution_count": 66
  }
 ],
 "metadata": {
  "kernelspec": {
   "display_name": "Python 3",
   "language": "python",
   "name": "python3"
  },
  "language_info": {
   "codemirror_mode": {
    "name": "ipython",
    "version": 2
   },
   "file_extension": ".py",
   "mimetype": "text/x-python",
   "name": "python",
   "nbconvert_exporter": "python",
   "pygments_lexer": "ipython2",
   "version": "2.7.6"
  }
 },
 "nbformat": 4,
 "nbformat_minor": 5
}
